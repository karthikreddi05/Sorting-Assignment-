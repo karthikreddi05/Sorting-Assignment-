{
 "cells": [
  {
   "cell_type": "code",
   "execution_count": 1,
   "id": "2fd7b6ca-ee98-4f90-92d6-38fbfb5d3f36",
   "metadata": {},
   "outputs": [
    {
     "name": "stdout",
     "output_type": "stream",
     "text": [
      "Element appearing maximum number of times: 3\n"
     ]
    }
   ],
   "source": [
    "#1.Given an array of n numbers, give an algorithm which gives the element appearing maximum number of times?\n",
    "\n",
    "def find_max_frequency_element(arr):\n",
    "    frequency_map = {}\n",
    "    \n",
    "    # Count frequency of each element\n",
    "    for num in arr:\n",
    "        if num in frequency_map:\n",
    "            frequency_map[num] += 1\n",
    "        else:\n",
    "            frequency_map[num] = 1\n",
    "    \n",
    "    # Find the element with maximum frequency\n",
    "    max_frequency_element = None\n",
    "    max_frequency = 0\n",
    "    for num, frequency in frequency_map.items():\n",
    "        if frequency > max_frequency:\n",
    "            max_frequency = frequency\n",
    "            max_frequency_element = num\n",
    "    \n",
    "    return max_frequency_element\n",
    "\n",
    "# Example usage:\n",
    "arr = [1, 2, 3, 4, 2, 2, 3, 3, 3]\n",
    "print(\"Element appearing maximum number of times:\", find_max_frequency_element(arr))"
   ]
  },
  {
   "cell_type": "code",
   "execution_count": 2,
   "id": "0525799f-7567-4bef-8cf8-8e561574f824",
   "metadata": {},
   "outputs": [
    {
     "name": "stdout",
     "output_type": "stream",
     "text": [
      "Missing number: 5\n"
     ]
    }
   ],
   "source": [
    "#2.We are given a list of n-1 integers and these integers are in the range of 1 to n . There are no duplicates in the list. One of the integers is missing in the list. Give an algorithm to find that element Ex: [1,2,4,6,3,7,8] 5 is the missing num.\n",
    "\n",
    "def find_missing_number(nums):\n",
    "    n = len(nums) + 1\n",
    "    total_sum = (n * (n + 1)) // 2  # Sum of integers from 1 to n\n",
    "    \n",
    "    # Calculate sum of elements in the list\n",
    "    list_sum = sum(nums)\n",
    "    \n",
    "    # The difference between the total sum and the sum of the list gives the missing number\n",
    "    missing_number = total_sum - list_sum\n",
    "    \n",
    "    return missing_number\n",
    "\n",
    "# Example usage:\n",
    "nums = [1, 2, 4, 6, 3, 7, 8]\n",
    "print(\"Missing number:\", find_missing_number(nums))"
   ]
  },
  {
   "cell_type": "code",
   "execution_count": 3,
   "id": "d2a52ec4-71dd-4f74-8a5b-ca04176d8c46",
   "metadata": {},
   "outputs": [
    {
     "name": "stdout",
     "output_type": "stream",
     "text": [
      "Number occurring odd number of times: 3\n"
     ]
    }
   ],
   "source": [
    "#3.Given an array of n positive numbers. All numbers occurs even number of times except 1 which occurs odd number of times. Find that number in O(n) time and O(1) space. Ex: [1,2,3,2,3,1,3]. 3 is repeats odd times.\n",
    "\n",
    "def find_odd_occurrence(arr):\n",
    "    result = 0\n",
    "    \n",
    "    # XOR all elements in the array\n",
    "    for num in arr:\n",
    "        result ^= num\n",
    "    \n",
    "    return result\n",
    "\n",
    "# Example usage:\n",
    "arr = [1, 2, 3, 2, 3, 1, 3]\n",
    "print(\"Number occurring odd number of times:\", find_odd_occurrence(arr))"
   ]
  },
  {
   "cell_type": "code",
   "execution_count": 4,
   "id": "bc089d21-85ca-4251-9ee9-957b235a3218",
   "metadata": {},
   "outputs": [
    {
     "name": "stdout",
     "output_type": "stream",
     "text": [
      "Pair with sum 10 found: (6, 4)\n"
     ]
    }
   ],
   "source": [
    "#4.Given an array of n elements. Find two elements in the array such that their sum is equal to given element K.\n",
    "\n",
    "def find_pair_with_sum(arr, target):\n",
    "    num_set = set()  # Initialize an empty set to store elements\n",
    "    \n",
    "    # Iterate through the array\n",
    "    for num in arr:\n",
    "        complement = target - num  # Calculate the complement needed to reach the target\n",
    "        \n",
    "        # If complement is in the set, we found a pair\n",
    "        if complement in num_set:\n",
    "            return num, complement\n",
    "        \n",
    "        # Otherwise, add the current number to the set\n",
    "        num_set.add(num)\n",
    "    \n",
    "    # If no pair is found\n",
    "    return None\n",
    "\n",
    "# Example usage:\n",
    "arr = [1, 2, 4, 6, 3, 7, 8]\n",
    "target = 10\n",
    "pair = find_pair_with_sum(arr, target)\n",
    "if pair:\n",
    "    print(f\"Pair with sum {target} found:\", pair)\n",
    "else:\n",
    "    print(\"No pair found with sum\", target)"
   ]
  },
  {
   "cell_type": "code",
   "execution_count": 5,
   "id": "3f4aea69-d58c-4660-9cec-3d2582ac3e49",
   "metadata": {},
   "outputs": [
    {
     "name": "stdout",
     "output_type": "stream",
     "text": [
      "Closest pair to zero: (-80, 85)\n"
     ]
    }
   ],
   "source": [
    "#5.Given an array of both positive and negative numbers, find two numbers such that their sum is closest to 0. Ex: [ 1 ,60 ,-10, 70, -80,85]. Ans : -80,85.\n",
    "\n",
    "def closest_to_zero(arr):\n",
    "    # Sort the array\n",
    "    arr.sort()\n",
    "\n",
    "    # Initialize two pointers\n",
    "    left = 0\n",
    "    right = len(arr) - 1\n",
    "\n",
    "    # Initialize variables to store the closest pair and their sum\n",
    "    closest_sum = float('inf')\n",
    "    closest_pair = None\n",
    "\n",
    "    # Move the pointers towards each other\n",
    "    while left < right:\n",
    "        current_sum = arr[left] + arr[right]\n",
    "\n",
    "        # If the current sum is closer to 0, update the closest sum and pair\n",
    "        if abs(current_sum) < abs(closest_sum):\n",
    "            closest_sum = current_sum\n",
    "            closest_pair = (arr[left], arr[right])\n",
    "\n",
    "        # Move the pointers based on the current sum\n",
    "        if current_sum < 0:\n",
    "            left += 1\n",
    "        elif current_sum > 0:\n",
    "            right -= 1\n",
    "        else:\n",
    "            # If the current sum is 0, we have found the closest pair\n",
    "            return closest_pair\n",
    "\n",
    "    return closest_pair\n",
    "\n",
    "# Example usage:\n",
    "arr = [1, 60, -10, 70, -80, 85]\n",
    "result = closest_to_zero(arr)\n",
    "print(\"Closest pair to zero:\", result)"
   ]
  },
  {
   "cell_type": "code",
   "execution_count": 6,
   "id": "0ce746c6-5498-4acc-911b-849d66997564",
   "metadata": {},
   "outputs": [
    {
     "name": "stdout",
     "output_type": "stream",
     "text": [
      "Three elements with sum 22 found: (4, 8, 10)\n"
     ]
    }
   ],
   "source": [
    "#6.Given an array of n elements . Find three elements such that their sum is equal to the given number.\n",
    "\n",
    "def find_three_sum(arr, target):\n",
    "    arr.sort()  # Sort the array\n",
    "\n",
    "    n = len(arr)\n",
    "\n",
    "    # Fix the first element and use two-pointer technique for the remaining array\n",
    "    for i in range(n - 2):\n",
    "        left = i + 1\n",
    "        right = n - 1\n",
    "\n",
    "        while left < right:\n",
    "            current_sum = arr[i] + arr[left] + arr[right]\n",
    "\n",
    "            # If current sum is equal to the target, return the triplet\n",
    "            if current_sum == target:\n",
    "                return arr[i], arr[left], arr[right]\n",
    "            \n",
    "            # If the current sum is less than the target, move the left pointer to the right\n",
    "            elif current_sum < target:\n",
    "                left += 1\n",
    "            \n",
    "            # If the current sum is greater than the target, move the right pointer to the left\n",
    "            else:\n",
    "                right -= 1\n",
    "\n",
    "    return None\n",
    "\n",
    "# Example usage:\n",
    "arr = [1, 4, 45, 6, 10, 8]\n",
    "target = 22\n",
    "result = find_three_sum(arr, target)\n",
    "if result:\n",
    "    print(\"Three elements with sum\", target, \"found:\", result)\n",
    "else:\n",
    "    print(\"No such triplet found\")"
   ]
  },
  {
   "cell_type": "code",
   "execution_count": 7,
   "id": "a4603314-62de-4e02-8ea8-e0042c020a5f",
   "metadata": {},
   "outputs": [
    {
     "name": "stdout",
     "output_type": "stream",
     "text": [
      "Pythagorean triplets found: [(1, 4, 6)]\n"
     ]
    }
   ],
   "source": [
    "#7.Given an array of n elements . Find three elements i, j, k in the array such that i * i + j * j = k*k.\n",
    "\n",
    "def find_pythagorean_triplets(arr):\n",
    "    n = len(arr)\n",
    "    # Square all elements of the array\n",
    "    squared_arr = [x * x for x in arr]\n",
    "    squared_arr.sort()  # Sort the squared array\n",
    "    \n",
    "    # Create a set for constant time lookup\n",
    "    squared_set = set(squared_arr)\n",
    "\n",
    "    triplets = []\n",
    "\n",
    "    # Fix one element as k and find the other two elements\n",
    "    for k in range(n):\n",
    "        # Fix one pointer at i\n",
    "        i = 0\n",
    "        # Fix another pointer at j\n",
    "        j = n - 1\n",
    "        while i < j:\n",
    "            # Check if the sum of squares of i and j is present in the set\n",
    "            if squared_arr[i] + squared_arr[j] == squared_arr[k]:\n",
    "                triplets.append((arr[i], arr[j], arr[k]))\n",
    "                break\n",
    "            # If sum is smaller, move i to the right\n",
    "            elif squared_arr[i] + squared_arr[j] < squared_arr[k]:\n",
    "                i += 1\n",
    "            # If sum is greater, move j to the left\n",
    "            else:\n",
    "                j -= 1\n",
    "\n",
    "    return triplets\n",
    "\n",
    "# Example usage:\n",
    "arr = [3, 1, 4, 6, 5]\n",
    "triplets = find_pythagorean_triplets(arr)\n",
    "if triplets:\n",
    "    print(\"Pythagorean triplets found:\", triplets)\n",
    "else:\n",
    "    print(\"No Pythagorean triplets found\")"
   ]
  },
  {
   "cell_type": "code",
   "execution_count": 8,
   "id": "e7a20d40-ef88-4802-bbb1-0a088a2a7f16",
   "metadata": {},
   "outputs": [
    {
     "name": "stdout",
     "output_type": "stream",
     "text": [
      "Row with maximum number of zeros: 0\n"
     ]
    }
   ],
   "source": [
    "#8.Given n × n matrix, and in each row all 1’s are followed by 0’s. Find the row with the maximum number of 0’s.\n",
    "\n",
    "def find_row_with_max_zeros(matrix):\n",
    "    n = len(matrix)\n",
    "    max_zeros_row = -1\n",
    "    max_zeros_count = -1\n",
    "\n",
    "    # Start from the top-right corner\n",
    "    row = 0\n",
    "    col = n - 1\n",
    "\n",
    "    # Iterate through each row\n",
    "    while row < n and col >= 0:\n",
    "        # If the current element is 0, update max_zeros_row and move to the next row\n",
    "        if matrix[row][col] == 0:\n",
    "            if col > max_zeros_count:\n",
    "                max_zeros_count = col\n",
    "                max_zeros_row = row\n",
    "            row += 1\n",
    "        # If the current element is 1, move left in the same row\n",
    "        else:\n",
    "            col -= 1\n",
    "\n",
    "    return max_zeros_row\n",
    "\n",
    "# Example usage:\n",
    "matrix = [\n",
    "    [1, 1, 1, 0],\n",
    "    [0, 0, 0, 0],\n",
    "    [1, 1, 0, 0],\n",
    "    [1, 1, 1, 1]\n",
    "]\n",
    "max_zeros_row = find_row_with_max_zeros(matrix)\n",
    "print(\"Row with maximum number of zeros:\", max_zeros_row)"
   ]
  },
  {
   "cell_type": "code",
   "execution_count": null,
   "id": "2a4ddf21-c010-4da3-91df-3eaaeb611b65",
   "metadata": {},
   "outputs": [],
   "source": []
  }
 ],
 "metadata": {
  "kernelspec": {
   "display_name": "Python 3 (ipykernel)",
   "language": "python",
   "name": "python3"
  },
  "language_info": {
   "codemirror_mode": {
    "name": "ipython",
    "version": 3
   },
   "file_extension": ".py",
   "mimetype": "text/x-python",
   "name": "python",
   "nbconvert_exporter": "python",
   "pygments_lexer": "ipython3",
   "version": "3.10.8"
  }
 },
 "nbformat": 4,
 "nbformat_minor": 5
}
